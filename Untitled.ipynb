{
 "cells": [
  {
   "cell_type": "code",
   "execution_count": 140,
   "metadata": {},
   "outputs": [],
   "source": [
    "import pandas as pd\n",
    "import numpy as np\n",
    "from sklearn import preprocessing, tree\n",
    "from sklearn.feature_extraction import DictVectorizer\n",
    "from sklearn.model_selection import train_test_split\n",
    "from sklearn.metrics import confusion_matrix\n",
    "from sklearn.metrics import accuracy_score\n",
    "import matplotlib.pyplot as mpl\n",
    "from sklearn.neighbors import KNeighborsClassifier\n",
    "from sklearn.model_selection import cross_val_score\n",
    "\n",
    "encoding = 'utf-8-sig'\n",
    "\n",
    "pd.set_option('display.width', 5000)\n",
    "pd.set_option('display.max_columns', 60)"
   ]
  },
  {
   "cell_type": "code",
   "execution_count": 2,
   "metadata": {},
   "outputs": [
    {
     "data": {
      "text/html": [
       "<div>\n",
       "<style>\n",
       "    .dataframe thead tr:only-child th {\n",
       "        text-align: right;\n",
       "    }\n",
       "\n",
       "    .dataframe thead th {\n",
       "        text-align: left;\n",
       "    }\n",
       "\n",
       "    .dataframe tbody tr th {\n",
       "        vertical-align: top;\n",
       "    }\n",
       "</style>\n",
       "<table border=\"1\" class=\"dataframe\">\n",
       "  <thead>\n",
       "    <tr style=\"text-align: right;\">\n",
       "      <th></th>\n",
       "      <th>id</th>\n",
       "      <th>age</th>\n",
       "      <th>job</th>\n",
       "      <th>marital</th>\n",
       "      <th>education</th>\n",
       "      <th>default</th>\n",
       "      <th>balance</th>\n",
       "      <th>housing</th>\n",
       "      <th>loan</th>\n",
       "      <th>contact</th>\n",
       "      <th>day</th>\n",
       "      <th>month</th>\n",
       "      <th>duration</th>\n",
       "      <th>campaign</th>\n",
       "      <th>pdays</th>\n",
       "      <th>previous</th>\n",
       "      <th>poutcome</th>\n",
       "      <th>y</th>\n",
       "    </tr>\n",
       "  </thead>\n",
       "  <tbody>\n",
       "    <tr>\n",
       "      <th>0</th>\n",
       "      <td>TR1</td>\n",
       "      <td>44</td>\n",
       "      <td>JobCat9</td>\n",
       "      <td>single</td>\n",
       "      <td>secondary</td>\n",
       "      <td>no</td>\n",
       "      <td>29</td>\n",
       "      <td>yes</td>\n",
       "      <td>no</td>\n",
       "      <td>unknown</td>\n",
       "      <td>5</td>\n",
       "      <td>may</td>\n",
       "      <td>0</td>\n",
       "      <td>1</td>\n",
       "      <td>-1</td>\n",
       "      <td>0</td>\n",
       "      <td>unknown</td>\n",
       "      <td>TypeA</td>\n",
       "    </tr>\n",
       "    <tr>\n",
       "      <th>1</th>\n",
       "      <td>TR2</td>\n",
       "      <td>31</td>\n",
       "      <td>JobCat4</td>\n",
       "      <td>married</td>\n",
       "      <td>secondary</td>\n",
       "      <td>no</td>\n",
       "      <td>2</td>\n",
       "      <td>yes</td>\n",
       "      <td>yes</td>\n",
       "      <td>unknown</td>\n",
       "      <td>5</td>\n",
       "      <td>may</td>\n",
       "      <td>0</td>\n",
       "      <td>1</td>\n",
       "      <td>-1</td>\n",
       "      <td>0</td>\n",
       "      <td>unknown</td>\n",
       "      <td>TypeA</td>\n",
       "    </tr>\n",
       "    <tr>\n",
       "      <th>2</th>\n",
       "      <td>TR3</td>\n",
       "      <td>42</td>\n",
       "      <td>JobCat4</td>\n",
       "      <td>divorced</td>\n",
       "      <td>tertiary</td>\n",
       "      <td>yes</td>\n",
       "      <td>2</td>\n",
       "      <td>yes</td>\n",
       "      <td>no</td>\n",
       "      <td>unknown</td>\n",
       "      <td>5</td>\n",
       "      <td>may</td>\n",
       "      <td>0</td>\n",
       "      <td>1</td>\n",
       "      <td>-1</td>\n",
       "      <td>0</td>\n",
       "      <td>unknown</td>\n",
       "      <td>TypeA</td>\n",
       "    </tr>\n",
       "    <tr>\n",
       "      <th>3</th>\n",
       "      <td>TR4</td>\n",
       "      <td>58</td>\n",
       "      <td>JobCat2</td>\n",
       "      <td>married</td>\n",
       "      <td>primary</td>\n",
       "      <td>no</td>\n",
       "      <td>121</td>\n",
       "      <td>yes</td>\n",
       "      <td>no</td>\n",
       "      <td>unknown</td>\n",
       "      <td>5</td>\n",
       "      <td>may</td>\n",
       "      <td>0</td>\n",
       "      <td>1</td>\n",
       "      <td>-1</td>\n",
       "      <td>0</td>\n",
       "      <td>unknown</td>\n",
       "      <td>TypeA</td>\n",
       "    </tr>\n",
       "    <tr>\n",
       "      <th>4</th>\n",
       "      <td>TR5</td>\n",
       "      <td>43</td>\n",
       "      <td>JobCat9</td>\n",
       "      <td>single</td>\n",
       "      <td>secondary</td>\n",
       "      <td>no</td>\n",
       "      <td>593</td>\n",
       "      <td>yes</td>\n",
       "      <td>no</td>\n",
       "      <td>unknown</td>\n",
       "      <td>5</td>\n",
       "      <td>may</td>\n",
       "      <td>0</td>\n",
       "      <td>1</td>\n",
       "      <td>-1</td>\n",
       "      <td>0</td>\n",
       "      <td>unknown</td>\n",
       "      <td>TypeA</td>\n",
       "    </tr>\n",
       "  </tbody>\n",
       "</table>\n",
       "</div>"
      ],
      "text/plain": [
       "    id  age      job   marital  education default  balance housing loan  contact  day month  duration  campaign  pdays  previous poutcome      y\n",
       "0  TR1   44  JobCat9    single  secondary      no       29     yes   no  unknown    5   may         0         1     -1         0  unknown  TypeA\n",
       "1  TR2   31  JobCat4   married  secondary      no        2     yes  yes  unknown    5   may         0         1     -1         0  unknown  TypeA\n",
       "2  TR3   42  JobCat4  divorced   tertiary     yes        2     yes   no  unknown    5   may         0         1     -1         0  unknown  TypeA\n",
       "3  TR4   58  JobCat2   married    primary      no      121     yes   no  unknown    5   may         0         1     -1         0  unknown  TypeA\n",
       "4  TR5   43  JobCat9    single  secondary      no      593     yes   no  unknown    5   may         0         1     -1         0  unknown  TypeA"
      ]
     },
     "execution_count": 2,
     "metadata": {},
     "output_type": "execute_result"
    }
   ],
   "source": [
    "headers = []\n",
    "with open('data/dataDescription.txt', 'r') as dd:\n",
    "    for line in dd:\n",
    "        if line[0].isdigit():\n",
    "            items = line.split(' ')\n",
    "            headers.append(items[2].strip().replace(':', ''))\n",
    "\n",
    "DataFrame = pd.read_csv('./data/trainingset.txt', names=headers, na_values=['?'])\n",
    "DataFrame.head()"
   ]
  },
  {
   "cell_type": "code",
   "execution_count": 120,
   "metadata": {},
   "outputs": [
    {
     "data": {
      "text/html": [
       "<div>\n",
       "<style>\n",
       "    .dataframe thead tr:only-child th {\n",
       "        text-align: right;\n",
       "    }\n",
       "\n",
       "    .dataframe thead th {\n",
       "        text-align: left;\n",
       "    }\n",
       "\n",
       "    .dataframe tbody tr th {\n",
       "        vertical-align: top;\n",
       "    }\n",
       "</style>\n",
       "<table border=\"1\" class=\"dataframe\">\n",
       "  <thead>\n",
       "    <tr style=\"text-align: right;\">\n",
       "      <th></th>\n",
       "      <th>job</th>\n",
       "      <th>loan</th>\n",
       "      <th>marital</th>\n",
       "      <th>education</th>\n",
       "      <th>default</th>\n",
       "      <th>housing</th>\n",
       "      <th>contact</th>\n",
       "      <th>month</th>\n",
       "      <th>poutcome</th>\n",
       "    </tr>\n",
       "  </thead>\n",
       "  <tbody>\n",
       "    <tr>\n",
       "      <th>0</th>\n",
       "      <td>JobCat9</td>\n",
       "      <td>no</td>\n",
       "      <td>single</td>\n",
       "      <td>secondary</td>\n",
       "      <td>no</td>\n",
       "      <td>yes</td>\n",
       "      <td>unknown</td>\n",
       "      <td>may</td>\n",
       "      <td>unknown</td>\n",
       "    </tr>\n",
       "    <tr>\n",
       "      <th>1</th>\n",
       "      <td>JobCat4</td>\n",
       "      <td>yes</td>\n",
       "      <td>married</td>\n",
       "      <td>secondary</td>\n",
       "      <td>no</td>\n",
       "      <td>yes</td>\n",
       "      <td>unknown</td>\n",
       "      <td>may</td>\n",
       "      <td>unknown</td>\n",
       "    </tr>\n",
       "    <tr>\n",
       "      <th>2</th>\n",
       "      <td>JobCat4</td>\n",
       "      <td>no</td>\n",
       "      <td>divorced</td>\n",
       "      <td>tertiary</td>\n",
       "      <td>yes</td>\n",
       "      <td>yes</td>\n",
       "      <td>unknown</td>\n",
       "      <td>may</td>\n",
       "      <td>unknown</td>\n",
       "    </tr>\n",
       "    <tr>\n",
       "      <th>3</th>\n",
       "      <td>JobCat2</td>\n",
       "      <td>no</td>\n",
       "      <td>married</td>\n",
       "      <td>primary</td>\n",
       "      <td>no</td>\n",
       "      <td>yes</td>\n",
       "      <td>unknown</td>\n",
       "      <td>may</td>\n",
       "      <td>unknown</td>\n",
       "    </tr>\n",
       "    <tr>\n",
       "      <th>4</th>\n",
       "      <td>JobCat9</td>\n",
       "      <td>no</td>\n",
       "      <td>single</td>\n",
       "      <td>secondary</td>\n",
       "      <td>no</td>\n",
       "      <td>yes</td>\n",
       "      <td>unknown</td>\n",
       "      <td>may</td>\n",
       "      <td>unknown</td>\n",
       "    </tr>\n",
       "  </tbody>\n",
       "</table>\n",
       "</div>"
      ],
      "text/plain": [
       "       job loan   marital  education default housing  contact month poutcome\n",
       "0  JobCat9   no    single  secondary      no     yes  unknown   may  unknown\n",
       "1  JobCat4  yes   married  secondary      no     yes  unknown   may  unknown\n",
       "2  JobCat4   no  divorced   tertiary     yes     yes  unknown   may  unknown\n",
       "3  JobCat2   no   married    primary      no     yes  unknown   may  unknown\n",
       "4  JobCat9   no    single  secondary      no     yes  unknown   may  unknown"
      ]
     },
     "execution_count": 120,
     "metadata": {},
     "output_type": "execute_result"
    }
   ],
   "source": [
    "CatFeatures = ['job','loan','marital', 'education', 'default', 'housing', 'contact', 'month', 'poutcome']\n",
    "CatFrame = DataFrame[CatFeatures]\n",
    "\n",
    "ContFrame = DataFrame.drop(CatFeatures + ['id', 'y'], axis=1)\n",
    "\n",
    "CatFrame.head()\n",
    "# ContFrame.head()"
   ]
  },
  {
   "cell_type": "code",
   "execution_count": 121,
   "metadata": {
    "collapsed": true
   },
   "outputs": [],
   "source": [
    "#  Clean Data"
   ]
  },
  {
   "cell_type": "code",
   "execution_count": 131,
   "metadata": {},
   "outputs": [],
   "source": [
    "CatFrame.replace('?', 'NA')\n",
    "CatFrame.replace('unknown','NA')\n",
    "CatFrame.fillna('NA', inplace = True)\n",
    "\n",
    "# CatFrame.contact.unique()"
   ]
  },
  {
   "cell_type": "code",
   "execution_count": 132,
   "metadata": {
    "collapsed": true
   },
   "outputs": [],
   "source": [
    "# Ready data for classifier "
   ]
  },
  {
   "cell_type": "code",
   "execution_count": 133,
   "metadata": {},
   "outputs": [],
   "source": [
    "vecCatDF = pd.get_dummies(CatFrame)\n",
    "trainDataFrame = np.hstack((ContFrame.as_matrix(), vecCatDF ))\n",
    "\n",
    "vectorizer = DictVectorizer( sparse = False)\n",
    "cat_df = CatFrame.T.to_dict().values()\n",
    "vec_cat_df = vectorizer.fit_transform(cat_df)\n",
    "train_df = np.hstack((ContFrame.as_matrix(), vec_cat_df))"
   ]
  },
  {
   "cell_type": "code",
   "execution_count": 134,
   "metadata": {
    "collapsed": true
   },
   "outputs": [],
   "source": [
    "# Create decision tree (ID3)"
   ]
  },
  {
   "cell_type": "code",
   "execution_count": 136,
   "metadata": {},
   "outputs": [
    {
     "name": "stdout",
     "output_type": "stream",
     "text": [
      "Accuracy= 0.835320723684\n"
     ]
    }
   ],
   "source": [
    "DecisionTreeModel = tree.DecisionTreeClassifier(criterion='entropy')\n",
    "target = DataFrame['y']\n",
    "x_train, x_test, y_train, y_test = train_test_split(train_df, target, test_size=0.2, random_state=0)\n",
    "\n",
    "DecisionTreeModel.fit(x_train, y_train)\n",
    "\n",
    "pred = DecisionTreeModel.predict(x_test)\n",
    "print('Accuracy= ' + str(accuracy_score(y_test, pred, normalize=True)))"
   ]
  },
  {
   "cell_type": "code",
   "execution_count": 146,
   "metadata": {
    "collapsed": true
   },
   "outputs": [],
   "source": [
    "# KNN"
   ]
  },
  {
   "cell_type": "code",
   "execution_count": 150,
   "metadata": {},
   "outputs": [
    {
     "name": "stdout",
     "output_type": "stream",
     "text": [
      "beofre\n",
      "The optimal number of neighbors is 41\n"
     ]
    }
   ],
   "source": [
    "# testing KNN for different Ks using cross-validation for test error\n",
    "\n",
    "List = list(range(1,50))\n",
    "#gettting the odds ones\n",
    "neighbours = list(filter(lambda x: x % 2 !=0, List))\n",
    "\n",
    "CV_scores = []\n",
    "\n",
    "print('beofre')\n",
    "for k in neighbours:\n",
    "    knn = KNeighborsClassifier(n_neighbors=k)\n",
    "    scores = cross_val_score(knn, x_train, y_train, cv=10, scoring='accuracy')\n",
    "    CV_scores.append(scores.mean())\n",
    "\n",
    "Errors = [ 1 - x for x in CV_scores]\n",
    "\n",
    "optimalneighbours = neighbours[Errors.index(min(Errors))]\n",
    "print (\"The optimal number of neighbors is %d\" % optimalneighbours)"
   ]
  },
  {
   "cell_type": "code",
   "execution_count": 151,
   "metadata": {},
   "outputs": [
    {
     "name": "stdout",
     "output_type": "stream",
     "text": [
      "0.889185855263\n"
     ]
    }
   ],
   "source": [
    "KNN = KNeighborsClassifier(n_neighbors=optimalneighbours)\n",
    "knn.fit(x_train, y_train.values.ravel())\n",
    "pred = knn.predict(x_test)\n",
    "print(accuracy_score(y_test, pred))"
   ]
  },
  {
   "cell_type": "code",
   "execution_count": 152,
   "metadata": {
    "collapsed": true
   },
   "outputs": [],
   "source": [
    "# KNN had better predictions, so going ahead with KNN"
   ]
  },
  {
   "cell_type": "code",
   "execution_count": 166,
   "metadata": {},
   "outputs": [],
   "source": [
    "QueryFrame = pd.read_csv('./data/trainingset.txt', names=headers, na_values=['?'])"
   ]
  },
  {
   "cell_type": "code",
   "execution_count": 177,
   "metadata": {},
   "outputs": [
    {
     "name": "stdout",
     "output_type": "stream",
     "text": [
      "['TypeA' 'TypeB']\n"
     ]
    }
   ],
   "source": [
    "QueryCatFeatures = ['job','loan','marital', 'education', 'default', 'housing', 'contact', 'month', 'poutcome']\n",
    "QueryCatFrame = DataFrame[CatFeatures]\n",
    "QueryContFrame = DataFrame.drop(CatFeatures + ['id', 'y'], axis=1)\n",
    "\n",
    "querycat_df = CatFrame.T.to_dict().values()\n",
    "queryvec_cat_df = vectorizer.fit_transform(cat_df)\n",
    "query_df = np.hstack((ContFrame.as_matrix(), vec_cat_df))\n",
    "\n",
    "query_pred = knn.predict(query_df)\n",
    "\n",
    "\n"
   ]
  },
  {
   "cell_type": "code",
   "execution_count": 192,
   "metadata": {},
   "outputs": [],
   "source": [
    "# Making asnwer file\n",
    "\n",
    "# getting ids as array\n",
    "ids = QueryFrame['id'].ravel()\n",
    "\n",
    "# filedata = np.array([ids,query_pred])\n",
    "# filedata = filedata.T\n",
    "# print(filedata)\n",
    "\n",
    "np.savetxt('predictions.txt',np.transpose([ids,query_pred]),fmt='%.18s', delimiter=',', newline='\\r\\n')\n",
    "\n",
    "# print(zip(ids,query_pred))\n",
    "# np.savetxt('myfile.txt', np.transpose([query_pred, ids]))\n"
   ]
  },
  {
   "cell_type": "code",
   "execution_count": null,
   "metadata": {
    "collapsed": true
   },
   "outputs": [],
   "source": []
  }
 ],
 "metadata": {
  "kernelspec": {
   "display_name": "Python 3",
   "language": "python",
   "name": "python3"
  },
  "language_info": {
   "codemirror_mode": {
    "name": "ipython",
    "version": 3
   },
   "file_extension": ".py",
   "mimetype": "text/x-python",
   "name": "python",
   "nbconvert_exporter": "python",
   "pygments_lexer": "ipython3",
   "version": "3.6.3"
  }
 },
 "nbformat": 4,
 "nbformat_minor": 2
}
